{
  "nbformat": 4,
  "nbformat_minor": 0,
  "metadata": {
    "colab": {
      "provenance": [],
      "include_colab_link": true
    },
    "kernelspec": {
      "name": "python3",
      "display_name": "Python 3"
    },
    "language_info": {
      "name": "python"
    }
  },
  "cells": [
    {
      "cell_type": "markdown",
      "metadata": {
        "id": "view-in-github",
        "colab_type": "text"
      },
      "source": [
        "<a href=\"https://colab.research.google.com/github/IBM-EPBL/IBM-Project-53922-1661575872/blob/main/N_Jothipriya%5BAssignment_3%5D.ipynb\" target=\"_parent\"><img src=\"https://colab.research.google.com/assets/colab-badge.svg\" alt=\"Open In Colab\"/></a>"
      ]
    },
    {
      "cell_type": "markdown",
      "source": [
        "## **Exercises**"
      ],
      "metadata": {
        "id": "j6kuR_Lmu59l"
      }
    },
    {
      "cell_type": "markdown",
      "source": [
        "Answer the questions or complete the tasks outline in bold below, use the specific method described if applicable."
      ],
      "metadata": {
        "id": "h4dxgABZvPZ6"
      }
    },
    {
      "cell_type": "markdown",
      "source": [
        "**what is 7 to the power of 4 ?**"
      ],
      "metadata": {
        "id": "Ch3JqcZl0fxo"
      }
    },
    {
      "cell_type": "code",
      "source": [
        "print(7**4)"
      ],
      "metadata": {
        "colab": {
          "base_uri": "https://localhost:8080/"
        },
        "id": "Fespjjua00g2",
        "outputId": "c5ba38c7-29b3-454a-e10c-98a9639f3a22"
      },
      "execution_count": null,
      "outputs": [
        {
          "output_type": "stream",
          "name": "stdout",
          "text": [
            "2401\n"
          ]
        }
      ]
    },
    {
      "cell_type": "markdown",
      "source": [
        "**Split this string:**"
      ],
      "metadata": {
        "id": "9I0E366n1QHu"
      }
    },
    {
      "cell_type": "markdown",
      "source": [
        "            s=\"Hi there Sam!\""
      ],
      "metadata": {
        "id": "gt2wuVH61dEE"
      }
    },
    {
      "cell_type": "markdown",
      "source": [
        "**into a list.**"
      ],
      "metadata": {
        "id": "BfFX_DhB2BxS"
      }
    },
    {
      "cell_type": "code",
      "source": [
        "s=\"Hi there Sam!\"\n",
        "s=s.split(\" \")\n",
        "print(s)"
      ],
      "metadata": {
        "colab": {
          "base_uri": "https://localhost:8080/"
        },
        "id": "lAJGCeTR2dvu",
        "outputId": "8b4149f9-f8b4-410f-f950-10bdd43e360f"
      },
      "execution_count": null,
      "outputs": [
        {
          "output_type": "stream",
          "name": "stdout",
          "text": [
            "['Hi', 'there', 'Sam!']\n"
          ]
        }
      ]
    },
    {
      "cell_type": "code",
      "source": [
        "s=\"Hi there Dad!\"\n",
        "s=s.split(\" \")\n",
        "print(s)"
      ],
      "metadata": {
        "colab": {
          "base_uri": "https://localhost:8080/"
        },
        "id": "iBdAQkbc2zD8",
        "outputId": "a43171a8-2906-403b-c071-f6ea631518ba"
      },
      "execution_count": null,
      "outputs": [
        {
          "output_type": "stream",
          "name": "stdout",
          "text": [
            "['Hi', 'there', 'Dad!']\n"
          ]
        }
      ]
    },
    {
      "cell_type": "markdown",
      "source": [
        "**Given the Variables:**"
      ],
      "metadata": {
        "id": "XVBj1iSb3Itr"
      }
    },
    {
      "cell_type": "markdown",
      "source": [
        "       planet = \"Earth\"\n",
        "       diameter = 12742\n",
        "       "
      ],
      "metadata": {
        "id": "B3401WnU3UgI"
      }
    },
    {
      "cell_type": "markdown",
      "source": [
        "**Use.format() to print the following string:**"
      ],
      "metadata": {
        "id": "jXmvIggz3hpQ"
      }
    },
    {
      "cell_type": "markdown",
      "source": [
        "The diameter of Earth is 12742 kilometers."
      ],
      "metadata": {
        "id": "u78n1UOa34SN"
      }
    },
    {
      "cell_type": "code",
      "source": [
        "planet = \"Earth\"\n",
        "diameter = 12742\n",
        "print(\"The diameter of {} is {} kilometers.\".format(planet,diameter))"
      ],
      "metadata": {
        "colab": {
          "base_uri": "https://localhost:8080/"
        },
        "id": "9qp9W9-H4FIG",
        "outputId": "bc03a88d-0f72-4a6b-c105-c0b1366cb949"
      },
      "execution_count": null,
      "outputs": [
        {
          "output_type": "stream",
          "name": "stdout",
          "text": [
            "The diameter of Earth is 12742 kilometers.\n"
          ]
        }
      ]
    },
    {
      "cell_type": "markdown",
      "source": [
        "**Given this nested list,use indexing to grap the word\"hello\"**"
      ],
      "metadata": {
        "id": "NsAPdHit41dc"
      }
    },
    {
      "cell_type": "code",
      "source": [
        "lst = [1,2,[3,4],[5,[100,200,['hello']],23,11],1,7]\n",
        "print(lst[3][1][2][0])"
      ],
      "metadata": {
        "colab": {
          "base_uri": "https://localhost:8080/"
        },
        "id": "gTsH1leh5FWi",
        "outputId": "feacaa29-1bb6-412f-c3f0-bd3908b54f05"
      },
      "execution_count": null,
      "outputs": [
        {
          "output_type": "stream",
          "name": "stdout",
          "text": [
            "hello\n"
          ]
        }
      ]
    },
    {
      "cell_type": "markdown",
      "source": [
        "**Given this nest dictionary grab the word \"hello\". Be prepared,this will be annoying /tricky**"
      ],
      "metadata": {
        "id": "3fR-Fizn6bZW"
      }
    },
    {
      "cell_type": "code",
      "source": [
        "d={'k1':[1,2,3,{'tricky':['oh','man','inception',{'target':[1,2,3,'hello']}]}]}\n",
        "print(d[\"k1\"][3][\"tricky\"][3][\"target\"][3])"
      ],
      "metadata": {
        "colab": {
          "base_uri": "https://localhost:8080/"
        },
        "id": "vnTY6bVq6yBu",
        "outputId": "58bc9a73-1a09-45e6-aeba-04b548345043"
      },
      "execution_count": null,
      "outputs": [
        {
          "output_type": "stream",
          "name": "stdout",
          "text": [
            "hello\n"
          ]
        }
      ]
    },
    {
      "cell_type": "markdown",
      "source": [
        "**what is the main difference between a tuple and a list?**"
      ],
      "metadata": {
        "id": "dEVRO2gm7lXs"
      }
    },
    {
      "cell_type": "code",
      "source": [
        "print(\"Tuple is immutable, list items can be changed\")"
      ],
      "metadata": {
        "colab": {
          "base_uri": "https://localhost:8080/"
        },
        "id": "p_qdQHm67xmf",
        "outputId": "dea26c16-8b19-4151-9f1e-46407e725055"
      },
      "execution_count": null,
      "outputs": [
        {
          "output_type": "stream",
          "name": "stdout",
          "text": [
            "Tuple is immutable, list items can be changed\n"
          ]
        }
      ]
    },
    {
      "cell_type": "markdown",
      "source": [
        "**Create a function that grabs the email website domain from a string in the form:**"
      ],
      "metadata": {
        "id": "99WYzwB68KjW"
      }
    },
    {
      "cell_type": "markdown",
      "source": [
        "      user@domain.com"
      ],
      "metadata": {
        "id": "jzb8Zfkw8ZUF"
      }
    },
    {
      "cell_type": "markdown",
      "source": [
        "**So for example, passing\"user@domain.com\" would return:domain.com**"
      ],
      "metadata": {
        "id": "6fUblHWy8c63"
      }
    },
    {
      "cell_type": "code",
      "source": [
        "def email(email):\n",
        "  return str(email).split(\"@\")[1]"
      ],
      "metadata": {
        "id": "a7gVWjBl8qJP"
      },
      "execution_count": null,
      "outputs": []
    },
    {
      "cell_type": "code",
      "source": [
        "email_var = \"user@domain.com\"\n",
        "print(email(email_var))"
      ],
      "metadata": {
        "colab": {
          "base_uri": "https://localhost:8080/"
        },
        "id": "e-W_aDnM9TNA",
        "outputId": "27bbe7fd-e803-401d-a3a1-132d59d09dcd"
      },
      "execution_count": null,
      "outputs": [
        {
          "output_type": "stream",
          "name": "stdout",
          "text": [
            "domain.com\n"
          ]
        }
      ]
    },
    {
      "cell_type": "markdown",
      "source": [
        "**Create a basic function that returns True if the word 'dog' is contained in the input string. Don't worry about edge cases like a punctuation being attached to the word dog, but do account for capitalization.**"
      ],
      "metadata": {
        "id": "lGtkJFLw9cC_"
      }
    },
    {
      "cell_type": "code",
      "source": [
        "def word_found(word):\n",
        "  return True if \"dog\" in str(word) else False\n",
        "  \n",
        "  "
      ],
      "metadata": {
        "id": "3zDj2VSg9kp5"
      },
      "execution_count": null,
      "outputs": []
    },
    {
      "cell_type": "code",
      "source": [
        "word = \"Don't worry about edge cases like a punctuation being attached to the word dog, but do account for capitalization\"\n",
        "print(word_found(word))"
      ],
      "metadata": {
        "colab": {
          "base_uri": "https://localhost:8080/"
        },
        "id": "S4Ff8HAt9oM-",
        "outputId": "e34cd30f-0c4b-4dc0-ed8e-b82900f60783"
      },
      "execution_count": null,
      "outputs": [
        {
          "output_type": "stream",
          "name": "stdout",
          "text": [
            "True\n"
          ]
        }
      ]
    },
    {
      "cell_type": "markdown",
      "source": [
        "**Create a function that counts the number of times the word \"dog\" occurs in a string. Again ignore edge cases.**"
      ],
      "metadata": {
        "id": "AzRCjBMB92PV"
      }
    },
    {
      "cell_type": "code",
      "source": [
        "def word_found_counts(word):\n",
        "  return word.count(\"dog\")"
      ],
      "metadata": {
        "id": "hpjo2qy4991v"
      },
      "execution_count": null,
      "outputs": []
    },
    {
      "cell_type": "code",
      "source": [
        "word = \"Don't worry about edge cases like a punctuation being attached to the word dog, but do account for capitalization dogs\"\n",
        "print(word_found_counts(word))"
      ],
      "metadata": {
        "colab": {
          "base_uri": "https://localhost:8080/"
        },
        "id": "dyZjDvBp-BdP",
        "outputId": "615786d1-6672-4f5b-db13-de8b56c9c8d6"
      },
      "execution_count": null,
      "outputs": [
        {
          "output_type": "stream",
          "name": "stdout",
          "text": [
            "2\n"
          ]
        }
      ]
    },
    {
      "cell_type": "markdown",
      "source": [
        "**Problem**"
      ],
      "metadata": {
        "id": "LVrQVljk-Js9"
      }
    },
    {
      "cell_type": "markdown",
      "source": [
        "**You are driving a little too fast, and a police officer stops you. Write a function to return one of 3 possible results: \"No ticket\", \"Small ticket\", or \"Big Ticket\". If your speed is 60 or less, the result is \"No Ticket\". If speed is between 61 and 80 inclusive, the result is \"Small Ticket\". If speed is 81 or more, the result is \"Big Ticket\". Unless it is your birthday (encoded as a boolean value in the parameters of the function) -- on your birthday, your speed can be 5 higher in all cases.**"
      ],
      "metadata": {
        "id": "EbQY3XBY-NrF"
      }
    },
    {
      "cell_type": "code",
      "source": [
        "def caught_speeding(speed, is_birthday):\n",
        "    \n",
        "    if is_birthday:\n",
        "        speeding = speed + 5\n",
        "    else:\n",
        "        speeding = speed\n",
        "    \n",
        "    if speeding <= 80 :\n",
        "        return 'Small Ticket'\n",
        "    elif speeding <= 60:\n",
        "        return 'No Ticket'\n",
        "    else:\n",
        "        return 'Big Ticket'"
      ],
      "metadata": {
        "id": "52hf1oPr-TXf"
      },
      "execution_count": null,
      "outputs": []
    },
    {
      "cell_type": "code",
      "source": [
        "print(caught_speeding(81,True))"
      ],
      "metadata": {
        "colab": {
          "base_uri": "https://localhost:8080/"
        },
        "id": "PgQlib4Z-Y-v",
        "outputId": "c3aaa2b8-4c58-48b2-ab96-1f898b640451"
      },
      "execution_count": null,
      "outputs": [
        {
          "output_type": "stream",
          "name": "stdout",
          "text": [
            "Big Ticket\n"
          ]
        }
      ]
    },
    {
      "cell_type": "code",
      "source": [
        "print(caught_speeding(80,False))"
      ],
      "metadata": {
        "colab": {
          "base_uri": "https://localhost:8080/"
        },
        "id": "8M99CYPY-hyX",
        "outputId": "9f9abbb7-fa47-4a4d-bbca-38bfd237016c"
      },
      "execution_count": null,
      "outputs": [
        {
          "output_type": "stream",
          "name": "stdout",
          "text": [
            "Small Ticket\n"
          ]
        }
      ]
    },
    {
      "cell_type": "markdown",
      "source": [
        "Create an employee list with basic salary values(at least 5 values for 5 employees) and using a for loop retreive each employee salary and calculate total salary expenditure."
      ],
      "metadata": {
        "id": "i5GItXEM-n32"
      }
    },
    {
      "cell_type": "code",
      "source": [
        "employee = [[\"kavin\",600000],[\"ram\",200000],[\"kishore\",300000],[\"gowtham\",400000],[\"sath\",500000]]\n",
        "total = 0\n",
        "for i in employee:\n",
        "  print(i[1])\n",
        "  total += i[1]\n",
        "  \n",
        "print(total)"
      ],
      "metadata": {
        "colab": {
          "base_uri": "https://localhost:8080/"
        },
        "id": "9RJoehnI-ua3",
        "outputId": "de4803ca-ee9b-449e-f365-c9b2f6f64572"
      },
      "execution_count": null,
      "outputs": [
        {
          "output_type": "stream",
          "name": "stdout",
          "text": [
            "600000\n",
            "200000\n",
            "300000\n",
            "400000\n",
            "500000\n",
            "2000000\n"
          ]
        }
      ]
    },
    {
      "cell_type": "markdown",
      "source": [
        "Create two dictionaries in Python:"
      ],
      "metadata": {
        "id": "vvYqVAka-4Ce"
      }
    },
    {
      "cell_type": "markdown",
      "source": [
        "First one to contain fields as Empid, Empname, Basicpay"
      ],
      "metadata": {
        "id": "a0spvY1x-4Q3"
      }
    },
    {
      "cell_type": "markdown",
      "source": [
        "Second dictionary to contain fields as DeptName, DeptId."
      ],
      "metadata": {
        "id": "vU68B94w-4c4"
      }
    },
    {
      "cell_type": "markdown",
      "source": [
        "Combine both dictionaries."
      ],
      "metadata": {
        "id": "rSWqNxOJ-4o3"
      }
    },
    {
      "cell_type": "code",
      "source": [
        "basic_emp = {\n",
        "    \"Empid\" : 1,\n",
        "    \"Empname\": \"kavin\",\n",
        "    \"Basicpay\" : 100000.00\n",
        "}\n",
        "\n",
        "second_dict = {\n",
        "    \"DeptName\" : \"Information Technology\",\n",
        "    \"DeptId\" : 1401\n",
        "}\n",
        "\n",
        "\n",
        "combine = {\n",
        "    \"Empid\" : basic_emp[\"Empid\"],\n",
        "    \"Empname\": basic_emp[\"Empname\"],\n",
        "    \"Basicpay\" : basic_emp[\"Basicpay\"],\n",
        "    \"DeptName\" : second_dict[\"DeptName\"],\n",
        "    \"DeptId\" : second_dict[\"DeptId\"]\n",
        "}\n",
        "\n",
        "print(combine)"
      ],
      "metadata": {
        "colab": {
          "base_uri": "https://localhost:8080/"
        },
        "id": "6zjj_C_3_Kp5",
        "outputId": "b7f5544e-65b6-4706-83df-e2c56ad086a6"
      },
      "execution_count": null,
      "outputs": [
        {
          "output_type": "stream",
          "name": "stdout",
          "text": [
            "{'Empid': 1, 'Empname': 'kavin', 'Basicpay': 100000.0, 'DeptName': 'Information Technology', 'DeptId': 1401}\n"
          ]
        }
      ]
    }
  ]
}